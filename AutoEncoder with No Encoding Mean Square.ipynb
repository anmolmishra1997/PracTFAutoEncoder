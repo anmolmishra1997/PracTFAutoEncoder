{
 "cells": [
  {
   "cell_type": "code",
   "execution_count": 1,
   "metadata": {},
   "outputs": [
    {
     "name": "stderr",
     "output_type": "stream",
     "text": [
      "Using TensorFlow backend.\n"
     ]
    }
   ],
   "source": [
    "from keras.layers import Input, LSTM, RepeatVector\n",
    "from keras.models import Model\n",
    "from keras.datasets import imdb\n",
    "from keras.preprocessing import sequence\n",
    "from keras.utils import to_categorical\n",
    "import numpy as np"
   ]
  },
  {
   "cell_type": "code",
   "execution_count": 2,
   "metadata": {
    "collapsed": true
   },
   "outputs": [],
   "source": [
    "# load the dataset but only keep the top n words, zero the rest\n",
    "top_words = 500\n",
    "(X_train, y_train), (X_test, y_test) = imdb.load_data(num_words=top_words)"
   ]
  },
  {
   "cell_type": "code",
   "execution_count": 3,
   "metadata": {
    "collapsed": true
   },
   "outputs": [],
   "source": [
    "# truncate and pad input sequences\n",
    "max_review_length = timesteps = 50\n",
    "X_train = sequence.pad_sequences(X_train, maxlen=max_review_length)\n",
    "X_test = sequence.pad_sequences(X_test, maxlen=max_review_length)"
   ]
  },
  {
   "cell_type": "code",
   "execution_count": 4,
   "metadata": {
    "collapsed": true
   },
   "outputs": [],
   "source": [
    "X_train = X_train.reshape(X_train.shape[0], X_train.shape[1],1)\n",
    "X_test = X_test.reshape(X_test.shape[0], X_test.shape[1],1)"
   ]
  },
  {
   "cell_type": "code",
   "execution_count": 5,
   "metadata": {
    "collapsed": true
   },
   "outputs": [],
   "source": [
    "encoding_dim = latent_dim = 100"
   ]
  },
  {
   "cell_type": "code",
   "execution_count": 6,
   "metadata": {
    "collapsed": true
   },
   "outputs": [],
   "source": [
    "inputs = Input(shape=(max_review_length, 1))\n",
    "encoded = LSTM(latent_dim)(inputs)\n",
    "\n",
    "decoded = RepeatVector(timesteps)(encoded)\n",
    "decoded = LSTM(1, return_sequences=True)(decoded)\n",
    "\n",
    "sequence_autoencoder = Model(inputs, decoded)\n",
    "encoder = Model(inputs, encoded)"
   ]
  },
  {
   "cell_type": "code",
   "execution_count": 7,
   "metadata": {
    "collapsed": true
   },
   "outputs": [],
   "source": [
    "sequence_autoencoder.compile(loss='mean_squared_error', optimizer='adam', metrics=['accuracy'])"
   ]
  },
  {
   "cell_type": "code",
   "execution_count": 8,
   "metadata": {},
   "outputs": [
    {
     "name": "stdout",
     "output_type": "stream",
     "text": [
      "Epoch 1/2\n",
      "25000/25000 [==============================] - 19s 757us/step - loss: 14591.8646 - acc: 0.0025\n",
      "Epoch 2/2\n",
      "25000/25000 [==============================] - 18s 733us/step - loss: 14519.1754 - acc: 4.5520e-04\n"
     ]
    },
    {
     "data": {
      "text/plain": [
       "<keras.callbacks.History at 0x7f0dcf7b86d8>"
      ]
     },
     "execution_count": 8,
     "metadata": {},
     "output_type": "execute_result"
    }
   ],
   "source": [
    "sequence_autoencoder.fit(X_train, X_train, batch_size=1000, epochs=2)"
   ]
  },
  {
   "cell_type": "code",
   "execution_count": 9,
   "metadata": {},
   "outputs": [
    {
     "data": {
      "text/plain": [
       "array([[ 0.66838217],\n",
       "       [ 0.91075987],\n",
       "       [ 0.97262645],\n",
       "       [ 0.99011141],\n",
       "       [ 0.99587798],\n",
       "       [ 0.99805844],\n",
       "       [ 0.99898481],\n",
       "       [ 0.99941951],\n",
       "       [ 0.99964148],\n",
       "       [ 0.99976337],\n",
       "       [ 0.99983478],\n",
       "       [ 0.9998787 ],\n",
       "       [ 0.99990702],\n",
       "       [ 0.99992621],\n",
       "       [ 0.99993962],\n",
       "       [ 0.9999491 ],\n",
       "       [ 0.99995595],\n",
       "       [ 0.99996126],\n",
       "       [ 0.99996531],\n",
       "       [ 0.99996853],\n",
       "       [ 0.99997085],\n",
       "       [ 0.99997294],\n",
       "       [ 0.99997449],\n",
       "       [ 0.9999758 ],\n",
       "       [ 0.99997675],\n",
       "       [ 0.99997771],\n",
       "       [ 0.99997848],\n",
       "       [ 0.99997938],\n",
       "       [ 0.99997979],\n",
       "       [ 0.99998003],\n",
       "       [ 0.99998051],\n",
       "       [ 0.99998087],\n",
       "       [ 0.99998105],\n",
       "       [ 0.99998122],\n",
       "       [ 0.99998152],\n",
       "       [ 0.99998146],\n",
       "       [ 0.99998176],\n",
       "       [ 0.99998188],\n",
       "       [ 0.99998206],\n",
       "       [ 0.99998218],\n",
       "       [ 0.99998212],\n",
       "       [ 0.99998236],\n",
       "       [ 0.99998236],\n",
       "       [ 0.99998236],\n",
       "       [ 0.99998254],\n",
       "       [ 0.9999823 ],\n",
       "       [ 0.99998242],\n",
       "       [ 0.99998242],\n",
       "       [ 0.99998254],\n",
       "       [ 0.99998266]], dtype=float32)"
      ]
     },
     "execution_count": 9,
     "metadata": {},
     "output_type": "execute_result"
    }
   ],
   "source": [
    "sequence_autoencoder.predict(X_train[0:1])[0]"
   ]
  },
  {
   "cell_type": "code",
   "execution_count": null,
   "metadata": {
    "collapsed": true
   },
   "outputs": [],
   "source": [
    "X_train[0]"
   ]
  },
  {
   "cell_type": "code",
   "execution_count": 4,
   "metadata": {
    "collapsed": true
   },
   "outputs": [],
   "source": [
    "\n",
    "y_binary = to_categorical(X_train, num_classes = 500)"
   ]
  },
  {
   "cell_type": "code",
   "execution_count": 6,
   "metadata": {},
   "outputs": [
    {
     "data": {
      "text/plain": [
       "(25000, 50, 500)"
      ]
     },
     "execution_count": 6,
     "metadata": {},
     "output_type": "execute_result"
    }
   ],
   "source": [
    "y_binary.shape"
   ]
  },
  {
   "cell_type": "code",
   "execution_count": null,
   "metadata": {
    "collapsed": true
   },
   "outputs": [],
   "source": []
  }
 ],
 "metadata": {
  "kernelspec": {
   "display_name": "keras_tf",
   "language": "python",
   "name": "keras_tf"
  },
  "language_info": {
   "codemirror_mode": {
    "name": "ipython",
    "version": 3
   },
   "file_extension": ".py",
   "mimetype": "text/x-python",
   "name": "python",
   "nbconvert_exporter": "python",
   "pygments_lexer": "ipython3",
   "version": "3.5.2"
  }
 },
 "nbformat": 4,
 "nbformat_minor": 2
}
